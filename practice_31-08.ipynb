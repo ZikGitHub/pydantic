{
 "cells": [
  {
   "cell_type": "markdown",
   "id": "d02a08ea",
   "metadata": {},
   "source": [
    "## 1_pydantic_why"
   ]
  },
  {
   "cell_type": "code",
   "execution_count": 6,
   "id": "4b071437",
   "metadata": {},
   "outputs": [
    {
     "name": "stdout",
     "output_type": "stream",
     "text": [
      "name='John' email='john319@gmail.com' linkedIn=AnyUrl('https://www.linkedin.com/in/john/') age=30 weight=70.5 married=True allergies=None contact_details={'phone': '123-456-7890'}\n",
      "Data inserted!\n",
      "name='John' email='john319@gmail.com' linkedIn=AnyUrl('https://www.linkedin.com/in/john/') age=30 weight=70.5 married=True allergies=None contact_details={'phone': '123-456-7890'}\n",
      "Data updated!\n"
     ]
    }
   ],
   "source": [
    "from pydantic import BaseModel, EmailStr, AnyUrl, Field\n",
    "from typing import List, Dict, Optional, Annotated\n",
    "\n",
    "class Patient(BaseModel):\n",
    "\n",
    "    name: Annotated[\n",
    "        str,\n",
    "        Field(\n",
    "            max_length=50,\n",
    "            title=\"Name of the patient\",\n",
    "            description=\"Give the name of the patients in less than 50 chars\",\n",
    "            examples=[{\"example_1\": \"Ramesh\"}, {\"example_2\": \"Suresh\"}]\n",
    "        )\n",
    "    ]\n",
    "    email: EmailStr\n",
    "    linkedIn: Optional[AnyUrl] = None\n",
    "    age: int = Field(gt=0, lt=120)\n",
    "    weight: Annotated[float, Field(gt=0, strict=True)]\n",
    "    married: Annotated[bool, Field(default=None, description=\"Is the patient married or not?\")]\n",
    "    allergies: Annotated[Optional[List[str]], Field(default=None, max_length=5)]\n",
    "    contact_details: Optional[Dict[str, str]] = {}\n",
    "\n",
    "\n",
    "def insert_patient_data(patient: Patient):\n",
    "    print(patient)\n",
    "    print(\"Data inserted!\")\n",
    "\n",
    "\n",
    "def update_patient_data(patient: Patient):\n",
    "    print(patient)\n",
    "    print(\"Data updated!\")\n",
    "\n",
    "\n",
    "patient_info = {\n",
    "    \"name\": \"John\",\n",
    "    \"email\": \"john319@gmail.com\",\n",
    "    \"linkedIn\": \"https://www.linkedin.com/in/john/\",\n",
    "    \"age\": 30,\n",
    "    \"weight\": 70.5,\n",
    "    \"married\": True,\n",
    "    \"contact_details\": {\"phone\": \"123-456-7890\"},\n",
    "}\n",
    "\n",
    "patient1 = Patient(**patient_info)\n",
    "\n",
    "insert_patient_data(patient1)\n",
    "update_patient_data(patient1)"
   ]
  },
  {
   "cell_type": "code",
   "execution_count": 10,
   "id": "280df732",
   "metadata": {},
   "outputs": [
    {
     "name": "stdout",
     "output_type": "stream",
     "text": [
      "name='JOHN' email='john319@icici.com' age=70 allergies=['peanut', 'milk'] contact_details={'phone': '123-456-7890', 'emergency': '987-654-3210'}\n",
      "Data inserted!\n",
      "name='JOHN' email='john319@icici.com' age=70 allergies=['peanut', 'milk'] contact_details={'phone': '123-456-7890', 'emergency': '987-654-3210'}\n",
      "Data updated!\n"
     ]
    }
   ],
   "source": [
    "from pydantic import BaseModel, EmailStr, field_validator, model_validator\n",
    "from typing import List, Dict\n",
    "\n",
    "\n",
    "class Patient(BaseModel):\n",
    "    name: str\n",
    "    email: EmailStr\n",
    "    age: int\n",
    "    allergies: List[str]\n",
    "    contact_details: Dict[str, str]\n",
    "\n",
    "    @field_validator('name')\n",
    "    @classmethod\n",
    "    def transform_name(cls, value):\n",
    "        return value.upper()\n",
    "\n",
    "    @field_validator('age', mode='after')\n",
    "    @classmethod\n",
    "    def transform_age(cls, value):\n",
    "        if 0 < value < 100:\n",
    "            return value\n",
    "        else:\n",
    "            raise ValueError('Invalid age')\n",
    "\n",
    "    @field_validator('email')\n",
    "    @classmethod\n",
    "    def email_validator(cls, value):\n",
    "        valid_domains = [\"hdfc.com\", \"icici.com\", \"sbi.com\"]\n",
    "\n",
    "        domain_name = value.split('@')[-1]\n",
    "\n",
    "        if domain_name not in valid_domains:\n",
    "            raise ValueError(\"Invalid domain name\")\n",
    "\n",
    "        return value\n",
    "\n",
    "    @model_validator(mode=\"after\")\n",
    "    def validate_emergency_contact(cls, model):\n",
    "        if model.age > 60 and \"emergency\" not in model.contact_details:\n",
    "            raise ValueError(\"patient is older than 60 must have an emergency contact\")\n",
    "\n",
    "        return model\n",
    "\n",
    "\n",
    "def insert_patient_data(patient: Patient):\n",
    "    print(patient)\n",
    "    print(\"Data inserted!\")\n",
    "\n",
    "\n",
    "def update_patient_data(patient: Patient):\n",
    "    print(patient)\n",
    "    print(\"Data updated!\")\n",
    "\n",
    "\n",
    "patient_info = {\n",
    "    \"name\": \"John\",\n",
    "    \"email\": \"john319@icici.com\",\n",
    "    \"age\": \"70\",\n",
    "    \"weight\": 70.5,\n",
    "    \"married\": True,\n",
    "    \"allergies\": [\"peanut\", \"milk\"],\n",
    "    \"contact_details\": {\"phone\": \"123-456-7890\", \"emergency\": \"987-654-3210\"},\n",
    "}\n",
    "\n",
    "patient1 = Patient(**patient_info)\n",
    "\n",
    "insert_patient_data(patient1)\n",
    "update_patient_data(patient1)"
   ]
  },
  {
   "cell_type": "code",
   "execution_count": null,
   "id": "a650e6cf",
   "metadata": {},
   "outputs": [],
   "source": []
  },
  {
   "cell_type": "code",
   "execution_count": null,
   "id": "a16fe01e",
   "metadata": {},
   "outputs": [],
   "source": []
  },
  {
   "cell_type": "code",
   "execution_count": null,
   "id": "99b1932a",
   "metadata": {},
   "outputs": [],
   "source": []
  },
  {
   "cell_type": "code",
   "execution_count": null,
   "metadata": {},
   "outputs": [],
   "source": []
  },
  {
   "cell_type": "code",
   "execution_count": null,
   "id": "fe9ec6d8",
   "metadata": {},
   "outputs": [],
   "source": []
  },
  {
   "cell_type": "code",
   "execution_count": null,
   "id": "dbbe9b8a",
   "metadata": {},
   "outputs": [],
   "source": []
  },
  {
   "cell_type": "code",
   "execution_count": null,
   "id": "7e2398c5",
   "metadata": {},
   "outputs": [],
   "source": []
  },
  {
   "cell_type": "code",
   "execution_count": null,
   "id": "b67aa3ce",
   "metadata": {},
   "outputs": [],
   "source": []
  },
  {
   "cell_type": "code",
   "execution_count": null,
   "id": "a186286b",
   "metadata": {},
   "outputs": [],
   "source": []
  },
  {
   "cell_type": "code",
   "execution_count": null,
   "id": "b51975a8",
   "metadata": {},
   "outputs": [],
   "source": []
  },
  {
   "cell_type": "code",
   "execution_count": null,
   "id": "d462b451",
   "metadata": {},
   "outputs": [],
   "source": []
  }
 ],
 "metadata": {
  "kernelspec": {
   "display_name": ".venv",
   "language": "python",
   "name": "python3"
  },
  "language_info": {
   "codemirror_mode": {
    "name": "ipython",
    "version": 3
   },
   "file_extension": ".py",
   "mimetype": "text/x-python",
   "name": "python",
   "nbconvert_exporter": "python",
   "pygments_lexer": "ipython3",
   "version": "3.13.3"
  }
 },
 "nbformat": 4,
 "nbformat_minor": 5
}
